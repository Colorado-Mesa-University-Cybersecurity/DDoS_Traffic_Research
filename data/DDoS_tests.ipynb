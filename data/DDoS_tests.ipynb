{
 "cells": [
  {
   "cell_type": "code",
   "execution_count": 2,
   "id": "264f1472",
   "metadata": {},
   "outputs": [],
   "source": [
    "import numpy as np\n",
    "import os\n",
    "import io\n",
    "import pandas as pd\n",
    "import tensorflow as tf\n",
    "from tensorflow.python.client import device_lib\n",
    "from tensorflow import keras"
   ]
  },
  {
   "cell_type": "code",
   "execution_count": 3,
   "id": "0fb7ddaf",
   "metadata": {},
   "outputs": [],
   "source": [
    "NetBIOS = pd.read_csv('./DDoS_data/CSV-01-12/01-12/DrDoS_NetBIOS.csv', low_memory=False, nrows=50000)\n",
    "DNS = pd.read_csv('./DDoS_data/CSV-01-12/01-12/DrDoS_DNS.csv', low_memory=False, nrows=50000)\n",
    "LDAP = pd.read_csv('./DDoS_data/CSV-01-12/01-12/DrDoS_LDAP.csv', low_memory=False, nrows=50000)\n",
    "Portmap =  pd.read_csv('./DDoS_data/CSV-03-11/03-11/Portmap.csv', low_memory=False, nrows=50000)"
   ]
  },
  {
   "cell_type": "code",
   "execution_count": 4,
   "id": "0d788009",
   "metadata": {},
   "outputs": [],
   "source": [
    "SNMP = pd.read_csv('./DDoS_data/CSV-01-12/01-12/DrDoS_SNMP.csv', low_memory=False, nrows=50000)\n",
    "SSDP = pd.read_csv('./DDoS_data/CSV-01-12/01-12/DrDoS_SSDP.csv', low_memory=False, nrows=50000)\n",
    "UDP = pd.read_csv('./DDoS_data/CSV-01-12/01-12/DrDoS_UDP.csv', low_memory=False, nrows=50000)\n",
    "SYN = pd.read_csv('./DDoS_data/CSV-01-12/01-12/Syn.csv', low_memory=False, nrows=50000)"
   ]
  },
  {
   "cell_type": "code",
   "execution_count": 5,
   "id": "872f329c",
   "metadata": {},
   "outputs": [],
   "source": [
    "MSSQL = pd.read_csv('./DDoS_data/CSV-01-12/01-12/DrDoS_MSSQL.csv', low_memory=False, nrows=50000)\n",
    "NTP = pd.read_csv('./DDoS_data/CSV-01-12/01-12/DrDoS_NTP.csv', low_memory=False, nrows=50000)\n",
    "TFTP = pd.read_csv('./DDoS_data/CSV-01-12/01-12/TFTP.csv', low_memory=False, nrows=50000)\n",
    "UDPLag = pd.read_csv('./DDoS_data/CSV-01-12/01-12/UDPLag.csv', low_memory=False, nrows=50000)"
   ]
  },
  {
   "cell_type": "code",
   "execution_count": 6,
   "id": "6fe795de",
   "metadata": {},
   "outputs": [],
   "source": [
    "reflective_attacks = pd.concat([NetBIOS, DNS, LDAP, Portmap, MSSQL, NTP, SNMP, SSDP, UDP, SYN, TFTP, UDPLag])"
   ]
  },
  {
   "cell_type": "code",
   "execution_count": 7,
   "id": "2f5b0dd5",
   "metadata": {},
   "outputs": [
    {
     "data": {
      "text/html": [
       "<div>\n",
       "<style scoped>\n",
       "    .dataframe tbody tr th:only-of-type {\n",
       "        vertical-align: middle;\n",
       "    }\n",
       "\n",
       "    .dataframe tbody tr th {\n",
       "        vertical-align: top;\n",
       "    }\n",
       "\n",
       "    .dataframe thead th {\n",
       "        text-align: right;\n",
       "    }\n",
       "</style>\n",
       "<table border=\"1\" class=\"dataframe\">\n",
       "  <thead>\n",
       "    <tr style=\"text-align: right;\">\n",
       "      <th></th>\n",
       "      <th>Unnamed: 0</th>\n",
       "      <th>Flow ID</th>\n",
       "      <th>Source IP</th>\n",
       "      <th>Source Port</th>\n",
       "      <th>Destination IP</th>\n",
       "      <th>Destination Port</th>\n",
       "      <th>Protocol</th>\n",
       "      <th>Timestamp</th>\n",
       "      <th>Flow Duration</th>\n",
       "      <th>Total Fwd Packets</th>\n",
       "      <th>...</th>\n",
       "      <th>Active Std</th>\n",
       "      <th>Active Max</th>\n",
       "      <th>Active Min</th>\n",
       "      <th>Idle Mean</th>\n",
       "      <th>Idle Std</th>\n",
       "      <th>Idle Max</th>\n",
       "      <th>Idle Min</th>\n",
       "      <th>SimillarHTTP</th>\n",
       "      <th>Inbound</th>\n",
       "      <th>Label</th>\n",
       "    </tr>\n",
       "  </thead>\n",
       "  <tbody>\n",
       "    <tr>\n",
       "      <th>0</th>\n",
       "      <td>256565</td>\n",
       "      <td>172.16.0.5-192.168.50.1-34012-2334-17</td>\n",
       "      <td>172.16.0.5</td>\n",
       "      <td>34012</td>\n",
       "      <td>192.168.50.1</td>\n",
       "      <td>2334</td>\n",
       "      <td>17</td>\n",
       "      <td>2018-12-01 11:47:08.463789</td>\n",
       "      <td>1</td>\n",
       "      <td>2</td>\n",
       "      <td>...</td>\n",
       "      <td>0.0</td>\n",
       "      <td>0.0</td>\n",
       "      <td>0.0</td>\n",
       "      <td>0.0</td>\n",
       "      <td>0.0</td>\n",
       "      <td>0.0</td>\n",
       "      <td>0.0</td>\n",
       "      <td>0</td>\n",
       "      <td>1</td>\n",
       "      <td>DrDoS_NetBIOS</td>\n",
       "    </tr>\n",
       "    <tr>\n",
       "      <th>1</th>\n",
       "      <td>252918</td>\n",
       "      <td>172.16.0.5-192.168.50.1-34013-50170-17</td>\n",
       "      <td>172.16.0.5</td>\n",
       "      <td>34013</td>\n",
       "      <td>192.168.50.1</td>\n",
       "      <td>50170</td>\n",
       "      <td>17</td>\n",
       "      <td>2018-12-01 11:47:08.464316</td>\n",
       "      <td>1</td>\n",
       "      <td>2</td>\n",
       "      <td>...</td>\n",
       "      <td>0.0</td>\n",
       "      <td>0.0</td>\n",
       "      <td>0.0</td>\n",
       "      <td>0.0</td>\n",
       "      <td>0.0</td>\n",
       "      <td>0.0</td>\n",
       "      <td>0.0</td>\n",
       "      <td>0</td>\n",
       "      <td>1</td>\n",
       "      <td>DrDoS_NetBIOS</td>\n",
       "    </tr>\n",
       "    <tr>\n",
       "      <th>2</th>\n",
       "      <td>174257</td>\n",
       "      <td>172.16.0.5-192.168.50.1-34014-61534-17</td>\n",
       "      <td>172.16.0.5</td>\n",
       "      <td>34014</td>\n",
       "      <td>192.168.50.1</td>\n",
       "      <td>61534</td>\n",
       "      <td>17</td>\n",
       "      <td>2018-12-01 11:47:08.464472</td>\n",
       "      <td>1</td>\n",
       "      <td>2</td>\n",
       "      <td>...</td>\n",
       "      <td>0.0</td>\n",
       "      <td>0.0</td>\n",
       "      <td>0.0</td>\n",
       "      <td>0.0</td>\n",
       "      <td>0.0</td>\n",
       "      <td>0.0</td>\n",
       "      <td>0.0</td>\n",
       "      <td>0</td>\n",
       "      <td>1</td>\n",
       "      <td>DrDoS_NetBIOS</td>\n",
       "    </tr>\n",
       "    <tr>\n",
       "      <th>3</th>\n",
       "      <td>185193</td>\n",
       "      <td>172.16.0.5-192.168.50.1-34015-8930-17</td>\n",
       "      <td>172.16.0.5</td>\n",
       "      <td>34015</td>\n",
       "      <td>192.168.50.1</td>\n",
       "      <td>8930</td>\n",
       "      <td>17</td>\n",
       "      <td>2018-12-01 11:47:08.464520</td>\n",
       "      <td>1</td>\n",
       "      <td>2</td>\n",
       "      <td>...</td>\n",
       "      <td>0.0</td>\n",
       "      <td>0.0</td>\n",
       "      <td>0.0</td>\n",
       "      <td>0.0</td>\n",
       "      <td>0.0</td>\n",
       "      <td>0.0</td>\n",
       "      <td>0.0</td>\n",
       "      <td>0</td>\n",
       "      <td>1</td>\n",
       "      <td>DrDoS_NetBIOS</td>\n",
       "    </tr>\n",
       "    <tr>\n",
       "      <th>4</th>\n",
       "      <td>198671</td>\n",
       "      <td>172.16.0.5-192.168.50.1-34016-33040-17</td>\n",
       "      <td>172.16.0.5</td>\n",
       "      <td>34016</td>\n",
       "      <td>192.168.50.1</td>\n",
       "      <td>33040</td>\n",
       "      <td>17</td>\n",
       "      <td>2018-12-01 11:47:08.464925</td>\n",
       "      <td>2</td>\n",
       "      <td>2</td>\n",
       "      <td>...</td>\n",
       "      <td>0.0</td>\n",
       "      <td>0.0</td>\n",
       "      <td>0.0</td>\n",
       "      <td>0.0</td>\n",
       "      <td>0.0</td>\n",
       "      <td>0.0</td>\n",
       "      <td>0.0</td>\n",
       "      <td>0</td>\n",
       "      <td>1</td>\n",
       "      <td>DrDoS_NetBIOS</td>\n",
       "    </tr>\n",
       "  </tbody>\n",
       "</table>\n",
       "<p>5 rows × 88 columns</p>\n",
       "</div>"
      ],
      "text/plain": [
       "   Unnamed: 0                                 Flow ID   Source IP  \\\n",
       "0      256565   172.16.0.5-192.168.50.1-34012-2334-17  172.16.0.5   \n",
       "1      252918  172.16.0.5-192.168.50.1-34013-50170-17  172.16.0.5   \n",
       "2      174257  172.16.0.5-192.168.50.1-34014-61534-17  172.16.0.5   \n",
       "3      185193   172.16.0.5-192.168.50.1-34015-8930-17  172.16.0.5   \n",
       "4      198671  172.16.0.5-192.168.50.1-34016-33040-17  172.16.0.5   \n",
       "\n",
       "    Source Port  Destination IP   Destination Port   Protocol  \\\n",
       "0         34012    192.168.50.1               2334         17   \n",
       "1         34013    192.168.50.1              50170         17   \n",
       "2         34014    192.168.50.1              61534         17   \n",
       "3         34015    192.168.50.1               8930         17   \n",
       "4         34016    192.168.50.1              33040         17   \n",
       "\n",
       "                    Timestamp   Flow Duration   Total Fwd Packets  ...  \\\n",
       "0  2018-12-01 11:47:08.463789               1                   2  ...   \n",
       "1  2018-12-01 11:47:08.464316               1                   2  ...   \n",
       "2  2018-12-01 11:47:08.464472               1                   2  ...   \n",
       "3  2018-12-01 11:47:08.464520               1                   2  ...   \n",
       "4  2018-12-01 11:47:08.464925               2                   2  ...   \n",
       "\n",
       "    Active Std   Active Max   Active Min  Idle Mean   Idle Std   Idle Max  \\\n",
       "0          0.0          0.0          0.0        0.0        0.0        0.0   \n",
       "1          0.0          0.0          0.0        0.0        0.0        0.0   \n",
       "2          0.0          0.0          0.0        0.0        0.0        0.0   \n",
       "3          0.0          0.0          0.0        0.0        0.0        0.0   \n",
       "4          0.0          0.0          0.0        0.0        0.0        0.0   \n",
       "\n",
       "    Idle Min  SimillarHTTP   Inbound          Label  \n",
       "0        0.0             0         1  DrDoS_NetBIOS  \n",
       "1        0.0             0         1  DrDoS_NetBIOS  \n",
       "2        0.0             0         1  DrDoS_NetBIOS  \n",
       "3        0.0             0         1  DrDoS_NetBIOS  \n",
       "4        0.0             0         1  DrDoS_NetBIOS  \n",
       "\n",
       "[5 rows x 88 columns]"
      ]
     },
     "execution_count": 7,
     "metadata": {},
     "output_type": "execute_result"
    }
   ],
   "source": [
    "reflective_attacks.head()"
   ]
  },
  {
   "cell_type": "code",
   "execution_count": 8,
   "id": "040ad84b",
   "metadata": {},
   "outputs": [
    {
     "data": {
      "text/plain": [
       "0        DrDoS_NetBIOS\n",
       "1        DrDoS_NetBIOS\n",
       "2        DrDoS_NetBIOS\n",
       "3        DrDoS_NetBIOS\n",
       "4        DrDoS_NetBIOS\n",
       "             ...      \n",
       "49995           BENIGN\n",
       "49996           BENIGN\n",
       "49997           BENIGN\n",
       "49998           BENIGN\n",
       "49999           BENIGN\n",
       "Name: Label, Length: 600000, dtype: object"
      ]
     },
     "execution_count": 8,
     "metadata": {},
     "output_type": "execute_result"
    }
   ],
   "source": [
    "reflective_attacks = reflective_attacks.rename(columns={' Label': 'Label'})\n",
    "reflective_attacks.Label"
   ]
  },
  {
   "cell_type": "code",
   "execution_count": 9,
   "id": "cddc58d6",
   "metadata": {},
   "outputs": [],
   "source": [
    "# Rename the types of attacks\n",
    "old_labels = ['DrDoS_SSDP', 'DrDoS_LDAP', 'DrDoS_SNMP', 'DrDoS_NetBIOS', 'DrDoS_MSSQL', 'DrDoS_UDP', 'DrDoS_DNS', 'DrDoS_NTP']\n",
    "new_labels = ['SSDP', 'LDAP', 'SNMP', 'NetBIOS', 'MSSQL', 'UDP', 'DNS', 'NTP']\n",
    "reflective_attacks['Label'].replace(old_labels, new_labels, inplace=True)"
   ]
  },
  {
   "cell_type": "code",
   "execution_count": 10,
   "id": "29d02994",
   "metadata": {},
   "outputs": [
    {
     "name": "stdout",
     "output_type": "stream",
     "text": [
      "There are 88 columns and 600000 rows in the Layer 1 Data.\n",
      "After dropping NaN values, there are 88 columns and 579017 rows in Layer 1 Data.\n",
      "\n",
      "\n"
     ]
    }
   ],
   "source": [
    "# Drop NaN values\n",
    "print('There are {} columns and {} rows in the Layer 1 Data.'.format(len(reflective_attacks.columns), len(reflective_attacks)))\n",
    "reflective_attacks.dropna(axis='index', inplace=True)\n",
    "reflective_attacks = reflective_attacks[~reflective_attacks.isin([np.nan, np.inf, -np.inf]).any(1)]\n",
    "print('After dropping NaN values, there are {} columns and {} rows in Layer 1 Data.\\n\\n'.format(len(reflective_attacks.columns), len(reflective_attacks)))"
   ]
  },
  {
   "cell_type": "code",
   "execution_count": 11,
   "id": "f3f2eaf7",
   "metadata": {},
   "outputs": [
    {
     "name": "stdout",
     "output_type": "stream",
     "text": [
      "579017\n"
     ]
    }
   ],
   "source": [
    "print(len(reflective_attacks.index))"
   ]
  },
  {
   "cell_type": "code",
   "execution_count": 12,
   "id": "95b5250d",
   "metadata": {},
   "outputs": [],
   "source": [
    "# Remove overfitting columns (the same ones used in the original paper)\n",
    "overfitting_columns = ['Unnamed: 0', ' Source IP', ' Destination IP', ' Source Port', ' Destination Port', ' Timestamp', 'SimillarHTTP', 'Flow ID']\n",
    "reflective_attacks.drop(labels=overfitting_columns, axis='columns', inplace=True)\n",
    "pd.set_option('display.max_columns', None)"
   ]
  },
  {
   "cell_type": "code",
   "execution_count": 13,
   "id": "066f96ea",
   "metadata": {},
   "outputs": [
    {
     "name": "stdout",
     "output_type": "stream",
     "text": [
      "After dropping overfitting columns: \n",
      "\t there are 80 columns and 579017 rows\n"
     ]
    }
   ],
   "source": [
    "print('After dropping overfitting columns: \\n\\t there are {} columns and {} rows'.format(len(reflective_attacks.columns), len(reflective_attacks)))"
   ]
  },
  {
   "cell_type": "code",
   "execution_count": 14,
   "id": "0fd4ec8a",
   "metadata": {},
   "outputs": [
    {
     "name": "stdout",
     "output_type": "stream",
     "text": [
      "Index([' Protocol', ' Flow Duration', ' Total Fwd Packets',\n",
      "       ' Total Backward Packets', 'Total Length of Fwd Packets',\n",
      "       ' Total Length of Bwd Packets', ' Fwd Packet Length Max',\n",
      "       ' Fwd Packet Length Min', ' Fwd Packet Length Mean',\n",
      "       ' Fwd Packet Length Std', 'Bwd Packet Length Max',\n",
      "       ' Bwd Packet Length Min', ' Bwd Packet Length Mean',\n",
      "       ' Bwd Packet Length Std', 'Flow Bytes/s', ' Flow Packets/s',\n",
      "       ' Flow IAT Mean', ' Flow IAT Std', ' Flow IAT Max', ' Flow IAT Min',\n",
      "       'Fwd IAT Total', ' Fwd IAT Mean', ' Fwd IAT Std', ' Fwd IAT Max',\n",
      "       ' Fwd IAT Min', 'Bwd IAT Total', ' Bwd IAT Mean', ' Bwd IAT Std',\n",
      "       ' Bwd IAT Max', ' Bwd IAT Min', 'Fwd PSH Flags', ' Bwd PSH Flags',\n",
      "       ' Fwd URG Flags', ' Bwd URG Flags', ' Fwd Header Length',\n",
      "       ' Bwd Header Length', 'Fwd Packets/s', ' Bwd Packets/s',\n",
      "       ' Min Packet Length', ' Max Packet Length', ' Packet Length Mean',\n",
      "       ' Packet Length Std', ' Packet Length Variance', 'FIN Flag Count',\n",
      "       ' SYN Flag Count', ' RST Flag Count', ' PSH Flag Count',\n",
      "       ' ACK Flag Count', ' URG Flag Count', ' CWE Flag Count',\n",
      "       ' ECE Flag Count', ' Down/Up Ratio', ' Average Packet Size',\n",
      "       ' Avg Fwd Segment Size', ' Avg Bwd Segment Size',\n",
      "       ' Fwd Header Length.1', 'Fwd Avg Bytes/Bulk', ' Fwd Avg Packets/Bulk',\n",
      "       ' Fwd Avg Bulk Rate', ' Bwd Avg Bytes/Bulk', ' Bwd Avg Packets/Bulk',\n",
      "       'Bwd Avg Bulk Rate', 'Subflow Fwd Packets', ' Subflow Fwd Bytes',\n",
      "       ' Subflow Bwd Packets', ' Subflow Bwd Bytes', 'Init_Win_bytes_forward',\n",
      "       ' Init_Win_bytes_backward', ' act_data_pkt_fwd',\n",
      "       ' min_seg_size_forward', 'Active Mean', ' Active Std', ' Active Max',\n",
      "       ' Active Min', 'Idle Mean', ' Idle Std', ' Idle Max', ' Idle Min',\n",
      "       ' Inbound', 'Label'],\n",
      "      dtype='object')\n"
     ]
    }
   ],
   "source": [
    "print(reflective_attacks.columns)"
   ]
  },
  {
   "cell_type": "code",
   "execution_count": 16,
   "id": "c3799e4c",
   "metadata": {},
   "outputs": [
    {
     "ename": "KeyError",
     "evalue": "\"[' Bwd PSH Flags' ' Fwd URG Flags' ' Fwd URG Flags' ' Bwd URG Flags'\\n ' Bwd URG Flags' 'FIN Flag Count' ' PSH Flag Count' ' ECE Flag Count'\\n 'Fwd Avg Bytes/Bulk' ' Fwd Avg Packets/Bulk' ' Fwd Avg Bulk Rate'\\n ' Bwd Avg Bytes/Bulk' ' Bwd Avg Packets/Bulk' 'Bwd Avg Bulk Rate'] not found in axis\"",
     "output_type": "error",
     "traceback": [
      "\u001b[1;31m---------------------------------------------------------------------------\u001b[0m",
      "\u001b[1;31mKeyError\u001b[0m                                  Traceback (most recent call last)",
      "\u001b[1;32m<ipython-input-16-a0c92da7b259>\u001b[0m in \u001b[0;36m<module>\u001b[1;34m\u001b[0m\n\u001b[0;32m      3\u001b[0m                    \u001b[1;34m' PSH Flag Count'\u001b[0m\u001b[1;33m,\u001b[0m \u001b[1;34m' ECE Flag Count'\u001b[0m\u001b[1;33m,\u001b[0m \u001b[1;34m'Fwd Avg Bytes/Bulk'\u001b[0m\u001b[1;33m,\u001b[0m \u001b[1;34m' Fwd Avg Packets/Bulk'\u001b[0m\u001b[1;33m,\u001b[0m \u001b[1;34m' Fwd Avg Bulk Rate'\u001b[0m\u001b[1;33m,\u001b[0m\u001b[1;33m\u001b[0m\u001b[1;33m\u001b[0m\u001b[0m\n\u001b[0;32m      4\u001b[0m                    ' Bwd Avg Bytes/Bulk', ' Bwd Avg Packets/Bulk', 'Bwd Avg Bulk Rate']\n\u001b[1;32m----> 5\u001b[1;33m \u001b[0mreflective_attacks\u001b[0m\u001b[1;33m.\u001b[0m\u001b[0mdrop\u001b[0m\u001b[1;33m(\u001b[0m\u001b[0mlabels\u001b[0m\u001b[1;33m=\u001b[0m\u001b[0museless_columns\u001b[0m\u001b[1;33m,\u001b[0m \u001b[0maxis\u001b[0m\u001b[1;33m=\u001b[0m\u001b[1;34m'columns'\u001b[0m\u001b[1;33m,\u001b[0m \u001b[0minplace\u001b[0m\u001b[1;33m=\u001b[0m\u001b[1;32mTrue\u001b[0m\u001b[1;33m)\u001b[0m\u001b[1;33m\u001b[0m\u001b[1;33m\u001b[0m\u001b[0m\n\u001b[0m\u001b[0;32m      6\u001b[0m print('After dropping columns with only 0 values: \\n\\t there are {} columns and {} rows'.format(len(reflecttive_attacks.columns),\n\u001b[0;32m      7\u001b[0m                                                                                                 len(reflecttive_attacks)))\n",
      "\u001b[1;32mc:\\python39\\lib\\site-packages\\pandas\\core\\frame.py\u001b[0m in \u001b[0;36mdrop\u001b[1;34m(self, labels, axis, index, columns, level, inplace, errors)\u001b[0m\n\u001b[0;32m   4306\u001b[0m                 \u001b[0mweight\u001b[0m  \u001b[1;36m1.0\u001b[0m     \u001b[1;36m0.8\u001b[0m\u001b[1;33m\u001b[0m\u001b[1;33m\u001b[0m\u001b[0m\n\u001b[0;32m   4307\u001b[0m         \"\"\"\n\u001b[1;32m-> 4308\u001b[1;33m         return super().drop(\n\u001b[0m\u001b[0;32m   4309\u001b[0m             \u001b[0mlabels\u001b[0m\u001b[1;33m=\u001b[0m\u001b[0mlabels\u001b[0m\u001b[1;33m,\u001b[0m\u001b[1;33m\u001b[0m\u001b[1;33m\u001b[0m\u001b[0m\n\u001b[0;32m   4310\u001b[0m             \u001b[0maxis\u001b[0m\u001b[1;33m=\u001b[0m\u001b[0maxis\u001b[0m\u001b[1;33m,\u001b[0m\u001b[1;33m\u001b[0m\u001b[1;33m\u001b[0m\u001b[0m\n",
      "\u001b[1;32mc:\\python39\\lib\\site-packages\\pandas\\core\\generic.py\u001b[0m in \u001b[0;36mdrop\u001b[1;34m(self, labels, axis, index, columns, level, inplace, errors)\u001b[0m\n\u001b[0;32m   4151\u001b[0m         \u001b[1;32mfor\u001b[0m \u001b[0maxis\u001b[0m\u001b[1;33m,\u001b[0m \u001b[0mlabels\u001b[0m \u001b[1;32min\u001b[0m \u001b[0maxes\u001b[0m\u001b[1;33m.\u001b[0m\u001b[0mitems\u001b[0m\u001b[1;33m(\u001b[0m\u001b[1;33m)\u001b[0m\u001b[1;33m:\u001b[0m\u001b[1;33m\u001b[0m\u001b[1;33m\u001b[0m\u001b[0m\n\u001b[0;32m   4152\u001b[0m             \u001b[1;32mif\u001b[0m \u001b[0mlabels\u001b[0m \u001b[1;32mis\u001b[0m \u001b[1;32mnot\u001b[0m \u001b[1;32mNone\u001b[0m\u001b[1;33m:\u001b[0m\u001b[1;33m\u001b[0m\u001b[1;33m\u001b[0m\u001b[0m\n\u001b[1;32m-> 4153\u001b[1;33m                 \u001b[0mobj\u001b[0m \u001b[1;33m=\u001b[0m \u001b[0mobj\u001b[0m\u001b[1;33m.\u001b[0m\u001b[0m_drop_axis\u001b[0m\u001b[1;33m(\u001b[0m\u001b[0mlabels\u001b[0m\u001b[1;33m,\u001b[0m \u001b[0maxis\u001b[0m\u001b[1;33m,\u001b[0m \u001b[0mlevel\u001b[0m\u001b[1;33m=\u001b[0m\u001b[0mlevel\u001b[0m\u001b[1;33m,\u001b[0m \u001b[0merrors\u001b[0m\u001b[1;33m=\u001b[0m\u001b[0merrors\u001b[0m\u001b[1;33m)\u001b[0m\u001b[1;33m\u001b[0m\u001b[1;33m\u001b[0m\u001b[0m\n\u001b[0m\u001b[0;32m   4154\u001b[0m \u001b[1;33m\u001b[0m\u001b[0m\n\u001b[0;32m   4155\u001b[0m         \u001b[1;32mif\u001b[0m \u001b[0minplace\u001b[0m\u001b[1;33m:\u001b[0m\u001b[1;33m\u001b[0m\u001b[1;33m\u001b[0m\u001b[0m\n",
      "\u001b[1;32mc:\\python39\\lib\\site-packages\\pandas\\core\\generic.py\u001b[0m in \u001b[0;36m_drop_axis\u001b[1;34m(self, labels, axis, level, errors)\u001b[0m\n\u001b[0;32m   4186\u001b[0m                 \u001b[0mnew_axis\u001b[0m \u001b[1;33m=\u001b[0m \u001b[0maxis\u001b[0m\u001b[1;33m.\u001b[0m\u001b[0mdrop\u001b[0m\u001b[1;33m(\u001b[0m\u001b[0mlabels\u001b[0m\u001b[1;33m,\u001b[0m \u001b[0mlevel\u001b[0m\u001b[1;33m=\u001b[0m\u001b[0mlevel\u001b[0m\u001b[1;33m,\u001b[0m \u001b[0merrors\u001b[0m\u001b[1;33m=\u001b[0m\u001b[0merrors\u001b[0m\u001b[1;33m)\u001b[0m\u001b[1;33m\u001b[0m\u001b[1;33m\u001b[0m\u001b[0m\n\u001b[0;32m   4187\u001b[0m             \u001b[1;32melse\u001b[0m\u001b[1;33m:\u001b[0m\u001b[1;33m\u001b[0m\u001b[1;33m\u001b[0m\u001b[0m\n\u001b[1;32m-> 4188\u001b[1;33m                 \u001b[0mnew_axis\u001b[0m \u001b[1;33m=\u001b[0m \u001b[0maxis\u001b[0m\u001b[1;33m.\u001b[0m\u001b[0mdrop\u001b[0m\u001b[1;33m(\u001b[0m\u001b[0mlabels\u001b[0m\u001b[1;33m,\u001b[0m \u001b[0merrors\u001b[0m\u001b[1;33m=\u001b[0m\u001b[0merrors\u001b[0m\u001b[1;33m)\u001b[0m\u001b[1;33m\u001b[0m\u001b[1;33m\u001b[0m\u001b[0m\n\u001b[0m\u001b[0;32m   4189\u001b[0m             \u001b[0mresult\u001b[0m \u001b[1;33m=\u001b[0m \u001b[0mself\u001b[0m\u001b[1;33m.\u001b[0m\u001b[0mreindex\u001b[0m\u001b[1;33m(\u001b[0m\u001b[1;33m**\u001b[0m\u001b[1;33m{\u001b[0m\u001b[0maxis_name\u001b[0m\u001b[1;33m:\u001b[0m \u001b[0mnew_axis\u001b[0m\u001b[1;33m}\u001b[0m\u001b[1;33m)\u001b[0m\u001b[1;33m\u001b[0m\u001b[1;33m\u001b[0m\u001b[0m\n\u001b[0;32m   4190\u001b[0m \u001b[1;33m\u001b[0m\u001b[0m\n",
      "\u001b[1;32mc:\\python39\\lib\\site-packages\\pandas\\core\\indexes\\base.py\u001b[0m in \u001b[0;36mdrop\u001b[1;34m(self, labels, errors)\u001b[0m\n\u001b[0;32m   5589\u001b[0m         \u001b[1;32mif\u001b[0m \u001b[0mmask\u001b[0m\u001b[1;33m.\u001b[0m\u001b[0many\u001b[0m\u001b[1;33m(\u001b[0m\u001b[1;33m)\u001b[0m\u001b[1;33m:\u001b[0m\u001b[1;33m\u001b[0m\u001b[1;33m\u001b[0m\u001b[0m\n\u001b[0;32m   5590\u001b[0m             \u001b[1;32mif\u001b[0m \u001b[0merrors\u001b[0m \u001b[1;33m!=\u001b[0m \u001b[1;34m\"ignore\"\u001b[0m\u001b[1;33m:\u001b[0m\u001b[1;33m\u001b[0m\u001b[1;33m\u001b[0m\u001b[0m\n\u001b[1;32m-> 5591\u001b[1;33m                 \u001b[1;32mraise\u001b[0m \u001b[0mKeyError\u001b[0m\u001b[1;33m(\u001b[0m\u001b[1;34mf\"{labels[mask]} not found in axis\"\u001b[0m\u001b[1;33m)\u001b[0m\u001b[1;33m\u001b[0m\u001b[1;33m\u001b[0m\u001b[0m\n\u001b[0m\u001b[0;32m   5592\u001b[0m             \u001b[0mindexer\u001b[0m \u001b[1;33m=\u001b[0m \u001b[0mindexer\u001b[0m\u001b[1;33m[\u001b[0m\u001b[1;33m~\u001b[0m\u001b[0mmask\u001b[0m\u001b[1;33m]\u001b[0m\u001b[1;33m\u001b[0m\u001b[1;33m\u001b[0m\u001b[0m\n\u001b[0;32m   5593\u001b[0m         \u001b[1;32mreturn\u001b[0m \u001b[0mself\u001b[0m\u001b[1;33m.\u001b[0m\u001b[0mdelete\u001b[0m\u001b[1;33m(\u001b[0m\u001b[0mindexer\u001b[0m\u001b[1;33m)\u001b[0m\u001b[1;33m\u001b[0m\u001b[1;33m\u001b[0m\u001b[0m\n",
      "\u001b[1;31mKeyError\u001b[0m: \"[' Bwd PSH Flags' ' Fwd URG Flags' ' Fwd URG Flags' ' Bwd URG Flags'\\n ' Bwd URG Flags' 'FIN Flag Count' ' PSH Flag Count' ' ECE Flag Count'\\n 'Fwd Avg Bytes/Bulk' ' Fwd Avg Packets/Bulk' ' Fwd Avg Bulk Rate'\\n ' Bwd Avg Bytes/Bulk' ' Bwd Avg Packets/Bulk' 'Bwd Avg Bulk Rate'] not found in axis\""
     ]
    }
   ],
   "source": [
    "# Remove columns with only values of 0\n",
    "useless_columns = [' Bwd PSH Flags', ' Fwd URG Flags', ' Fwd URG Flags', ' Bwd URG Flags', ' Bwd URG Flags', 'FIN Flag Count',\n",
    "                   ' PSH Flag Count', ' ECE Flag Count', 'Fwd Avg Bytes/Bulk', ' Fwd Avg Packets/Bulk', ' Fwd Avg Bulk Rate',\n",
    "                   ' Bwd Avg Bytes/Bulk', ' Bwd Avg Packets/Bulk', 'Bwd Avg Bulk Rate']\n",
    "reflective_attacks.drop(labels=useless_columns, axis='columns', inplace=True)\n",
    "print('After dropping columns with only 0 values: \\n\\t there are {} columns and {} rows'.format(len(reflecttive_attacks.columns),\n",
    "                                                                                                len(reflecttive_attacks)))\n"
   ]
  },
  {
   "cell_type": "code",
   "execution_count": 18,
   "id": "79ae3eea",
   "metadata": {},
   "outputs": [
    {
     "data": {
      "text/plain": [
       "SSDP       49762\n",
       "SNMP       49395\n",
       "UDP        49035\n",
       "MSSQL      48931\n",
       "LDAP       48766\n",
       "UDP-lag    48001\n",
       "NetBIOS    46777\n",
       "DNS        46492\n",
       "Syn        45722\n",
       "TFTP       44791\n",
       "Portmap    42596\n",
       "NTP        37375\n",
       "BENIGN     21232\n",
       "WebDDoS      142\n",
       "Name: Label, dtype: int64"
      ]
     },
     "execution_count": 18,
     "metadata": {},
     "output_type": "execute_result"
    }
   ],
   "source": [
    "reflective_attacks['Label'].value_counts()\n"
   ]
  },
  {
   "cell_type": "code",
   "execution_count": 23,
   "id": "1fa483ce",
   "metadata": {},
   "outputs": [
    {
     "data": {
      "text/plain": [
       "<AxesSubplot:>"
      ]
     },
     "execution_count": 23,
     "metadata": {},
     "output_type": "execute_result"
    },
    {
     "data": {
      "image/png": "[encoded data removed]",
      "text/plain": [
       "<Figure size 432x288 with 1 Axes>"
      ]
     },
     "metadata": {
      "needs_background": "light"
     },
     "output_type": "display_data"
    }
   ],
   "source": [
    "reflective_attacks['Label'].value_counts().sort_values().plot(kind = 'barh')"
   ]
  },
  {
   "cell_type": "code",
   "execution_count": 24,
   "id": "b0b089a4",
   "metadata": {},
   "outputs": [],
   "source": [
    "from scipy.stats import pearsonr \n",
    "import matplotlib.pyplot as plt\n",
    "import seaborn as sns"
   ]
  },
  {
   "cell_type": "code",
   "execution_count": null,
   "id": "79c50f50",
   "metadata": {},
   "outputs": [],
   "source": []
  }
 ],
 "metadata": {
  "kernelspec": {
   "display_name": "Python 3",
   "language": "python",
   "name": "python3"
  },
  "language_info": {
   "codemirror_mode": {
    "name": "ipython",
    "version": 3
   },
   "file_extension": ".py",
   "mimetype": "text/x-python",
   "name": "python",
   "nbconvert_exporter": "python",
   "pygments_lexer": "ipython3",
   "version": "3.7.10"
  }
 },
 "nbformat": 4,
 "nbformat_minor": 5
}
