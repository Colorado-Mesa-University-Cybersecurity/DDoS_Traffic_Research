{
 "cells": [
  {
   "cell_type": "markdown",
   "id": "da278567",
   "metadata": {},
   "source": [
    "# Random Forest: Benign vs DDoS"
   ]
  },
  {
   "cell_type": "markdown",
   "id": "08a211eb",
   "metadata": {},
   "source": [
    "## Baseline"
   ]
  },
  {
   "cell_type": "code",
   "execution_count": 1,
   "id": "d31cab52",
   "metadata": {},
   "outputs": [],
   "source": [
    "import os\n",
    "import sys\n",
    "import pandas as pd\n",
    "import sklearn\n",
    "import matplotlib.pyplot as plt\n",
    "import seaborn as sn\n",
    "from sklearn.model_selection import train_test_split"
   ]
  },
  {
   "cell_type": "code",
   "execution_count": 2,
   "id": "7437463d",
   "metadata": {},
   "outputs": [
    {
     "data": {
      "text/plain": [
       "BENIGN    112731\n",
       "DDOS      112728\n",
       "Name: Label, dtype: int64"
      ]
     },
     "execution_count": 2,
     "metadata": {},
     "output_type": "execute_result"
    }
   ],
   "source": [
    "df = pd.read_csv(\"./Balanced_Datasets_Baseline/Benign_vs_DDoS.csv\")\n",
    "df['Label'].value_counts()"
   ]
  },
  {
   "cell_type": "code",
   "execution_count": 3,
   "id": "474ae981",
   "metadata": {},
   "outputs": [
    {
     "data": {
      "text/plain": [
       "0    0\n",
       "1    0\n",
       "2    0\n",
       "3    0\n",
       "4    0\n",
       "Name: Label, dtype: int64"
      ]
     },
     "execution_count": 3,
     "metadata": {},
     "output_type": "execute_result"
    }
   ],
   "source": [
    "Y = df[\"Label\"].replace([\"BENIGN\", \"DDOS\"],[0,1])\n",
    "X = df.drop([\"Label\"], axis=1)\n",
    "Y.head()"
   ]
  },
  {
   "cell_type": "code",
   "execution_count": 4,
   "id": "66fe1cea",
   "metadata": {},
   "outputs": [
    {
     "data": {
      "text/html": [
       "<div>\n",
       "<style scoped>\n",
       "    .dataframe tbody tr th:only-of-type {\n",
       "        vertical-align: middle;\n",
       "    }\n",
       "\n",
       "    .dataframe tbody tr th {\n",
       "        vertical-align: top;\n",
       "    }\n",
       "\n",
       "    .dataframe thead th {\n",
       "        text-align: right;\n",
       "    }\n",
       "</style>\n",
       "<table border=\"1\" class=\"dataframe\">\n",
       "  <thead>\n",
       "    <tr style=\"text-align: right;\">\n",
       "      <th></th>\n",
       "      <th>Protocol</th>\n",
       "      <th>Flow Duration</th>\n",
       "      <th>Total Fwd Packets</th>\n",
       "      <th>Total Backward Packets</th>\n",
       "      <th>Total Length of Fwd Packets</th>\n",
       "      <th>Total Length of Bwd Packets</th>\n",
       "      <th>Fwd Packet Length Max</th>\n",
       "      <th>Fwd Packet Length Min</th>\n",
       "      <th>Fwd Packet Length Mean</th>\n",
       "      <th>Fwd Packet Length Std</th>\n",
       "      <th>...</th>\n",
       "      <th>min seg size forward</th>\n",
       "      <th>Active Mean</th>\n",
       "      <th>Active Std</th>\n",
       "      <th>Active Max</th>\n",
       "      <th>Active Min</th>\n",
       "      <th>Idle Mean</th>\n",
       "      <th>Idle Std</th>\n",
       "      <th>Idle Max</th>\n",
       "      <th>Idle Min</th>\n",
       "      <th>Inbound</th>\n",
       "    </tr>\n",
       "  </thead>\n",
       "  <tbody>\n",
       "    <tr>\n",
       "      <th>0</th>\n",
       "      <td>6</td>\n",
       "      <td>110861755</td>\n",
       "      <td>26</td>\n",
       "      <td>26</td>\n",
       "      <td>616.0</td>\n",
       "      <td>768.0</td>\n",
       "      <td>297.0</td>\n",
       "      <td>0.0</td>\n",
       "      <td>23.692308</td>\n",
       "      <td>80.460062</td>\n",
       "      <td>...</td>\n",
       "      <td>20</td>\n",
       "      <td>198805.454545</td>\n",
       "      <td>64223.338986</td>\n",
       "      <td>392446.0</td>\n",
       "      <td>179351.0</td>\n",
       "      <td>9.863210e+06</td>\n",
       "      <td>413171.813769</td>\n",
       "      <td>10007500.0</td>\n",
       "      <td>8632089.0</td>\n",
       "      <td>0</td>\n",
       "    </tr>\n",
       "    <tr>\n",
       "      <th>1</th>\n",
       "      <td>6</td>\n",
       "      <td>40335006</td>\n",
       "      <td>9</td>\n",
       "      <td>10</td>\n",
       "      <td>8.0</td>\n",
       "      <td>62.0</td>\n",
       "      <td>1.0</td>\n",
       "      <td>0.0</td>\n",
       "      <td>0.888889</td>\n",
       "      <td>0.333333</td>\n",
       "      <td>...</td>\n",
       "      <td>20</td>\n",
       "      <td>90226.500000</td>\n",
       "      <td>43.554563</td>\n",
       "      <td>90287.0</td>\n",
       "      <td>90185.0</td>\n",
       "      <td>9.993447e+06</td>\n",
       "      <td>40495.753715</td>\n",
       "      <td>10018634.0</td>\n",
       "      <td>9933709.0</td>\n",
       "      <td>0</td>\n",
       "    </tr>\n",
       "    <tr>\n",
       "      <th>2</th>\n",
       "      <td>0</td>\n",
       "      <td>113244633</td>\n",
       "      <td>56</td>\n",
       "      <td>0</td>\n",
       "      <td>0.0</td>\n",
       "      <td>0.0</td>\n",
       "      <td>0.0</td>\n",
       "      <td>0.0</td>\n",
       "      <td>0.000000</td>\n",
       "      <td>0.000000</td>\n",
       "      <td>...</td>\n",
       "      <td>0</td>\n",
       "      <td>248176.750000</td>\n",
       "      <td>859690.585416</td>\n",
       "      <td>2978061.0</td>\n",
       "      <td>4.0</td>\n",
       "      <td>9.188876e+06</td>\n",
       "      <td>809901.667647</td>\n",
       "      <td>9882838.0</td>\n",
       "      <td>6781893.0</td>\n",
       "      <td>0</td>\n",
       "    </tr>\n",
       "    <tr>\n",
       "      <th>3</th>\n",
       "      <td>6</td>\n",
       "      <td>95628949</td>\n",
       "      <td>21</td>\n",
       "      <td>20</td>\n",
       "      <td>20.0</td>\n",
       "      <td>0.0</td>\n",
       "      <td>1.0</td>\n",
       "      <td>0.0</td>\n",
       "      <td>0.952381</td>\n",
       "      <td>0.218218</td>\n",
       "      <td>...</td>\n",
       "      <td>20</td>\n",
       "      <td>14901.222222</td>\n",
       "      <td>177.422362</td>\n",
       "      <td>15367.0</td>\n",
       "      <td>14798.0</td>\n",
       "      <td>1.001418e+07</td>\n",
       "      <td>5184.077926</td>\n",
       "      <td>10016037.0</td>\n",
       "      <td>10000366.0</td>\n",
       "      <td>0</td>\n",
       "    </tr>\n",
       "    <tr>\n",
       "      <th>4</th>\n",
       "      <td>6</td>\n",
       "      <td>95613243</td>\n",
       "      <td>21</td>\n",
       "      <td>20</td>\n",
       "      <td>20.0</td>\n",
       "      <td>0.0</td>\n",
       "      <td>1.0</td>\n",
       "      <td>0.0</td>\n",
       "      <td>0.952381</td>\n",
       "      <td>0.218218</td>\n",
       "      <td>...</td>\n",
       "      <td>20</td>\n",
       "      <td>26508.333333</td>\n",
       "      <td>17.902514</td>\n",
       "      <td>26534.0</td>\n",
       "      <td>26473.0</td>\n",
       "      <td>1.000431e+07</td>\n",
       "      <td>21.430119</td>\n",
       "      <td>10004365.0</td>\n",
       "      <td>10004289.0</td>\n",
       "      <td>0</td>\n",
       "    </tr>\n",
       "  </tbody>\n",
       "</table>\n",
       "<p>5 rows × 69 columns</p>\n",
       "</div>"
      ],
      "text/plain": [
       "   Protocol  Flow Duration  Total Fwd Packets  Total Backward Packets  \\\n",
       "0         6      110861755                 26                      26   \n",
       "1         6       40335006                  9                      10   \n",
       "2         0      113244633                 56                       0   \n",
       "3         6       95628949                 21                      20   \n",
       "4         6       95613243                 21                      20   \n",
       "\n",
       "   Total Length of Fwd Packets  Total Length of Bwd Packets  \\\n",
       "0                        616.0                        768.0   \n",
       "1                          8.0                         62.0   \n",
       "2                          0.0                          0.0   \n",
       "3                         20.0                          0.0   \n",
       "4                         20.0                          0.0   \n",
       "\n",
       "   Fwd Packet Length Max  Fwd Packet Length Min  Fwd Packet Length Mean  \\\n",
       "0                  297.0                    0.0               23.692308   \n",
       "1                    1.0                    0.0                0.888889   \n",
       "2                    0.0                    0.0                0.000000   \n",
       "3                    1.0                    0.0                0.952381   \n",
       "4                    1.0                    0.0                0.952381   \n",
       "\n",
       "   Fwd Packet Length Std  ...  min seg size forward    Active Mean  \\\n",
       "0              80.460062  ...                    20  198805.454545   \n",
       "1               0.333333  ...                    20   90226.500000   \n",
       "2               0.000000  ...                     0  248176.750000   \n",
       "3               0.218218  ...                    20   14901.222222   \n",
       "4               0.218218  ...                    20   26508.333333   \n",
       "\n",
       "      Active Std  Active Max  Active Min     Idle Mean       Idle Std  \\\n",
       "0   64223.338986    392446.0    179351.0  9.863210e+06  413171.813769   \n",
       "1      43.554563     90287.0     90185.0  9.993447e+06   40495.753715   \n",
       "2  859690.585416   2978061.0         4.0  9.188876e+06  809901.667647   \n",
       "3     177.422362     15367.0     14798.0  1.001418e+07    5184.077926   \n",
       "4      17.902514     26534.0     26473.0  1.000431e+07      21.430119   \n",
       "\n",
       "     Idle Max    Idle Min  Inbound  \n",
       "0  10007500.0   8632089.0        0  \n",
       "1  10018634.0   9933709.0        0  \n",
       "2   9882838.0   6781893.0        0  \n",
       "3  10016037.0  10000366.0        0  \n",
       "4  10004365.0  10004289.0        0  \n",
       "\n",
       "[5 rows x 69 columns]"
      ]
     },
     "execution_count": 4,
     "metadata": {},
     "output_type": "execute_result"
    }
   ],
   "source": [
    "X.head()"
   ]
  },
  {
   "cell_type": "code",
   "execution_count": 5,
   "id": "aaafdd4b",
   "metadata": {},
   "outputs": [],
   "source": [
    "X_train, X_test, Y_train, Y_test = train_test_split(X,Y, test_size=0.2)"
   ]
  },
  {
   "cell_type": "code",
   "execution_count": 6,
   "id": "2b3c0d87",
   "metadata": {},
   "outputs": [
    {
     "name": "stdout",
     "output_type": "stream",
     "text": [
      "180367\n",
      "45092\n"
     ]
    }
   ],
   "source": [
    "print(len(X_train.index))\n",
    "print(len(X_test.index))"
   ]
  },
  {
   "cell_type": "code",
   "execution_count": 7,
   "id": "0e8dee98",
   "metadata": {},
   "outputs": [],
   "source": [
    "from sklearn.ensemble import RandomForestClassifier\n",
    "model = RandomForestClassifier()\n"
   ]
  },
  {
   "cell_type": "code",
   "execution_count": 8,
   "id": "2116a3ee",
   "metadata": {},
   "outputs": [
    {
     "data": {
      "text/plain": [
       "RandomForestClassifier()"
      ]
     },
     "execution_count": 8,
     "metadata": {},
     "output_type": "execute_result"
    }
   ],
   "source": [
    "model.fit(X_train,Y_train)"
   ]
  },
  {
   "cell_type": "code",
   "execution_count": 9,
   "id": "011381e9",
   "metadata": {},
   "outputs": [
    {
     "data": {
      "text/plain": [
       "0.9997117005233744"
      ]
     },
     "execution_count": 9,
     "metadata": {},
     "output_type": "execute_result"
    }
   ],
   "source": [
    "model.score(X_test, Y_test)"
   ]
  },
  {
   "cell_type": "code",
   "execution_count": 10,
   "id": "96242786",
   "metadata": {},
   "outputs": [
    {
     "data": {
      "text/plain": [
       "{'bootstrap': True,\n",
       " 'ccp_alpha': 0.0,\n",
       " 'class_weight': None,\n",
       " 'criterion': 'gini',\n",
       " 'max_depth': None,\n",
       " 'max_features': 'auto',\n",
       " 'max_leaf_nodes': None,\n",
       " 'max_samples': None,\n",
       " 'min_impurity_decrease': 0.0,\n",
       " 'min_impurity_split': None,\n",
       " 'min_samples_leaf': 1,\n",
       " 'min_samples_split': 2,\n",
       " 'min_weight_fraction_leaf': 0.0,\n",
       " 'n_estimators': 100,\n",
       " 'n_jobs': None,\n",
       " 'oob_score': False,\n",
       " 'random_state': None,\n",
       " 'verbose': 0,\n",
       " 'warm_start': False}"
      ]
     },
     "execution_count": 10,
     "metadata": {},
     "output_type": "execute_result"
    }
   ],
   "source": [
    "model.get_params()"
   ]
  },
  {
   "cell_type": "code",
   "execution_count": 11,
   "id": "1e9e07b5",
   "metadata": {},
   "outputs": [],
   "source": [
    "from sklearn.metrics import confusion_matrix, f1_score, recall_score, precision_score\n",
    "Y_predicted = model.predict(X_test)\n",
    "cm = confusion_matrix(Y_test, Y_predicted)\n"
   ]
  },
  {
   "cell_type": "code",
   "execution_count": 12,
   "id": "813ea556",
   "metadata": {},
   "outputs": [
    {
     "data": {
      "text/plain": [
       "<AxesSubplot:>"
      ]
     },
     "execution_count": 12,
     "metadata": {},
     "output_type": "execute_result"
    },
    {
     "data": {
      "image/png": "[encoded data removed]",
      "text/plain": [
       "<Figure size 720x504 with 2 Axes>"
      ]
     },
     "metadata": {
      "needs_background": "light"
     },
     "output_type": "display_data"
    }
   ],
   "source": [
    "plt.figure(figsize=(10,7))\n",
    "sn.heatmap(cm, annot=True, cmap='Blues', fmt='.1f')\n"
   ]
  },
  {
   "cell_type": "code",
   "execution_count": 13,
   "id": "b8f77978",
   "metadata": {},
   "outputs": [
    {
     "data": {
      "text/plain": [
       "<matplotlib.legend.Legend at 0x179eacca0d0>"
      ]
     },
     "execution_count": 13,
     "metadata": {},
     "output_type": "execute_result"
    },
    {
     "data": {
      "image/png": "[encoded data removed]",
      "text/plain": [
       "<Figure size 500x500 with 1 Axes>"
      ]
     },
     "metadata": {
      "needs_background": "light"
     },
     "output_type": "display_data"
    }
   ],
   "source": [
    "from sklearn.metrics import roc_curve, auc\n",
    "RF_fpr, RF_tpr, threshold = roc_curve(Y_test, Y_predicted)\n",
    "auc_RF = auc(RF_fpr, RF_tpr)\n",
    "\n",
    "plt.figure(figsize=(5,5),dpi=100)\n",
    "plt.plot(RF_fpr, RF_tpr,linestyle='-', label=\"RF Benign (auc = %.4f)\" % auc_RF)\n",
    "plt.xlabel('False Positive Rate')\n",
    "plt.ylabel('True Positive Rate')\n",
    "plt.legend()"
   ]
  },
  {
   "cell_type": "code",
   "execution_count": 32,
   "id": "7da9860f",
   "metadata": {},
   "outputs": [
    {
     "name": "stdout",
     "output_type": "stream",
     "text": [
      "f1:  0.9997096464387019\n",
      "recall:  0.9994640943193998\n",
      "precision:  0.9999553192440016\n"
     ]
    }
   ],
   "source": [
    "print(\"f1: \", f1_score(Y_test, Y_predicted))\n",
    "print(\"recall: \", recall_score(Y_test, Y_predicted))\n",
    "print(\"precision: \", precision_score(Y_test, Y_predicted))"
   ]
  },
  {
   "cell_type": "markdown",
   "id": "b133acf8",
   "metadata": {},
   "source": [
    "## Time Based"
   ]
  },
  {
   "cell_type": "code",
   "execution_count": 14,
   "id": "f4167441",
   "metadata": {},
   "outputs": [
    {
     "data": {
      "text/plain": [
       "BENIGN    112731\n",
       "DDOS      112728\n",
       "Name: Label, dtype: int64"
      ]
     },
     "execution_count": 14,
     "metadata": {},
     "output_type": "execute_result"
    }
   ],
   "source": [
    "df_time = pd.read_csv(\"./Balanced_Datasets_Time_Based/Benign_vs_DDoS.csv\")\n",
    "df_time['Label'].value_counts()"
   ]
  },
  {
   "cell_type": "code",
   "execution_count": 15,
   "id": "5d828d87",
   "metadata": {},
   "outputs": [
    {
     "data": {
      "text/plain": [
       "0    0\n",
       "1    0\n",
       "2    0\n",
       "3    0\n",
       "4    0\n",
       "Name: Label, dtype: int64"
      ]
     },
     "execution_count": 15,
     "metadata": {},
     "output_type": "execute_result"
    }
   ],
   "source": [
    "Y_time = df_time[\"Label\"].replace([\"BENIGN\", \"DDOS\"],[0,1])\n",
    "X_time = df_time.drop([\"Label\"], axis=1)\n",
    "Y_time.head()"
   ]
  },
  {
   "cell_type": "code",
   "execution_count": 16,
   "id": "71f9dc1c",
   "metadata": {},
   "outputs": [
    {
     "name": "stdout",
     "output_type": "stream",
     "text": [
      "180367\n",
      "45092\n"
     ]
    }
   ],
   "source": [
    "X_time_train, X_time_test, Y_time_train, Y_time_test = train_test_split(X_time,Y_time, test_size=0.2)\n",
    "print(len(X_time_train.index))\n",
    "print(len(X_time_test.index))"
   ]
  },
  {
   "cell_type": "code",
   "execution_count": 17,
   "id": "8cdcdc1f",
   "metadata": {},
   "outputs": [
    {
     "data": {
      "text/plain": [
       "RandomForestClassifier()"
      ]
     },
     "execution_count": 17,
     "metadata": {},
     "output_type": "execute_result"
    }
   ],
   "source": [
    "model.fit(X_time_train,Y_time_train)"
   ]
  },
  {
   "cell_type": "code",
   "execution_count": 18,
   "id": "07855643",
   "metadata": {},
   "outputs": [
    {
     "data": {
      "text/plain": [
       "0.9848975428013839"
      ]
     },
     "execution_count": 18,
     "metadata": {},
     "output_type": "execute_result"
    }
   ],
   "source": [
    "model.score(X_time_test, Y_time_test)"
   ]
  },
  {
   "cell_type": "code",
   "execution_count": 19,
   "id": "72612435",
   "metadata": {},
   "outputs": [
    {
     "data": {
      "text/plain": [
       "{'bootstrap': True,\n",
       " 'ccp_alpha': 0.0,\n",
       " 'class_weight': None,\n",
       " 'criterion': 'gini',\n",
       " 'max_depth': None,\n",
       " 'max_features': 'auto',\n",
       " 'max_leaf_nodes': None,\n",
       " 'max_samples': None,\n",
       " 'min_impurity_decrease': 0.0,\n",
       " 'min_impurity_split': None,\n",
       " 'min_samples_leaf': 1,\n",
       " 'min_samples_split': 2,\n",
       " 'min_weight_fraction_leaf': 0.0,\n",
       " 'n_estimators': 100,\n",
       " 'n_jobs': None,\n",
       " 'oob_score': False,\n",
       " 'random_state': None,\n",
       " 'verbose': 0,\n",
       " 'warm_start': False}"
      ]
     },
     "execution_count": 19,
     "metadata": {},
     "output_type": "execute_result"
    }
   ],
   "source": [
    "model.get_params()"
   ]
  },
  {
   "cell_type": "code",
   "execution_count": 20,
   "id": "04c3288a",
   "metadata": {},
   "outputs": [
    {
     "data": {
      "text/plain": [
       "<AxesSubplot:>"
      ]
     },
     "execution_count": 20,
     "metadata": {},
     "output_type": "execute_result"
    },
    {
     "data": {
      "image/png": "[encoded data removed]",
      "text/plain": [
       "<Figure size 720x504 with 2 Axes>"
      ]
     },
     "metadata": {
      "needs_background": "light"
     },
     "output_type": "display_data"
    }
   ],
   "source": [
    "Y_time_predicted = model.predict(X_time_test)\n",
    "cm = confusion_matrix(Y_time_test, Y_time_predicted)\n",
    "plt.figure(figsize=(10,7))\n",
    "sn.heatmap(cm, annot=True, cmap='Blues', fmt='.1f')"
   ]
  },
  {
   "cell_type": "code",
   "execution_count": 21,
   "id": "8ac0a9c3",
   "metadata": {},
   "outputs": [
    {
     "data": {
      "text/plain": [
       "<matplotlib.legend.Legend at 0x179eab573d0>"
      ]
     },
     "execution_count": 21,
     "metadata": {},
     "output_type": "execute_result"
    },
    {
     "data": {
      "image/png": "[encoded data removed]",
      "text/plain": [
       "<Figure size 500x500 with 1 Axes>"
      ]
     },
     "metadata": {
      "needs_background": "light"
     },
     "output_type": "display_data"
    }
   ],
   "source": [
    "RF_time_fpr, RF_time_tpr, threshold = roc_curve(Y_time_test, Y_time_predicted)\n",
    "auc_RF_time = auc(RF_time_fpr, RF_time_tpr)\n",
    "\n",
    "plt.figure(figsize=(5,5),dpi=100)\n",
    "plt.plot(RF_time_fpr, RF_time_tpr,linestyle='-', label=\"RF Benign (auc = %.4f)\" % auc_RF_time)\n",
    "plt.xlabel('False Positive Rate')\n",
    "plt.ylabel('True Positive Rate')\n",
    "plt.legend()"
   ]
  },
  {
   "cell_type": "code",
   "execution_count": 31,
   "id": "f5043709",
   "metadata": {},
   "outputs": [
    {
     "name": "stdout",
     "output_type": "stream",
     "text": [
      "f1:  0.9850641517710275\n",
      "recall:  0.9931452326198479\n",
      "precision:  0.9771135186877257\n"
     ]
    }
   ],
   "source": [
    "print(\"f1: \", f1_score(Y_time_test, Y_time_predicted))\n",
    "print(\"recall: \", recall_score(Y_time_test, Y_time_predicted))\n",
    "print(\"precision: \", precision_score(Y_time_test, Y_time_predicted))"
   ]
  },
  {
   "cell_type": "markdown",
   "id": "90246f71",
   "metadata": {},
   "source": [
    "## Comparison and Summary"
   ]
  }
 ],
 "metadata": {
  "kernelspec": {
   "display_name": "Python 3",
   "language": "python",
   "name": "python3"
  },
  "language_info": {
   "codemirror_mode": {
    "name": "ipython",
    "version": 3
   },
   "file_extension": ".py",
   "mimetype": "text/x-python",
   "name": "python",
   "nbconvert_exporter": "python",
   "pygments_lexer": "ipython3",
   "version": "3.9.5"
  }
 },
 "nbformat": 4,
 "nbformat_minor": 5
}
